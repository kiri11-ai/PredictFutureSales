{
 "cells": [
  {
   "cell_type": "code",
   "execution_count": 1,
   "metadata": {
    "_cell_guid": "b1076dfc-b9ad-4769-8c92-a6c4dae69d19",
    "_uuid": "8f2839f25d086af736a60e9eeb907d3b93b6e0e5",
    "execution": {
     "iopub.execute_input": "2021-03-12T13:46:44.188377Z",
     "iopub.status.busy": "2021-03-12T13:46:44.187647Z",
     "iopub.status.idle": "2021-03-12T13:46:51.761458Z",
     "shell.execute_reply": "2021-03-12T13:46:51.762243Z"
    },
    "papermill": {
     "duration": 7.604898,
     "end_time": "2021-03-12T13:46:51.762430",
     "exception": false,
     "start_time": "2021-03-12T13:46:44.157532",
     "status": "completed"
    },
    "tags": []
   },
   "outputs": [
    {
     "name": "stdout",
     "output_type": "stream",
     "text": [
      "/kaggle/input/competitive-data-science-predict-future-sales/items.csv\n",
      "/kaggle/input/competitive-data-science-predict-future-sales/sample_submission.csv\n",
      "/kaggle/input/competitive-data-science-predict-future-sales/item_categories.csv\n",
      "/kaggle/input/competitive-data-science-predict-future-sales/sales_train.csv\n",
      "/kaggle/input/competitive-data-science-predict-future-sales/shops.csv\n",
      "/kaggle/input/competitive-data-science-predict-future-sales/test.csv\n"
     ]
    }
   ],
   "source": [
    "import numpy as np\n",
    "import pandas as pd\n",
    "from datetime import datetime\n",
    "from sklearn.model_selection import train_test_split\n",
    "from sklearn.preprocessing import PolynomialFeatures\n",
    "from keras.models import Sequential\n",
    "from keras.layers import LSTM, Dense, Dropout\n",
    "import matplotlib.pyplot as plt\n",
    "import seaborn as sns\n",
    "import os\n",
    "\n",
    "for dirname, _, filenames in os.walk('/kaggle/input'):\n",
    "    for filename in filenames:\n",
    "        print(os.path.join(dirname, filename))"
   ]
  },
  {
   "cell_type": "markdown",
   "metadata": {
    "papermill": {
     "duration": 0.017718,
     "end_time": "2021-03-12T13:46:51.799380",
     "exception": false,
     "start_time": "2021-03-12T13:46:51.781662",
     "status": "completed"
    },
    "tags": []
   },
   "source": [
    "## Files:\n",
    "\n",
    "* sales_train.csv - the training set. Daily historical data from January 2013 to October 2015.\n",
    "* test.csv - the test set. You need to forecast the sales for these shops and products for November 2015.\n",
    "* sample_submission.csv - a sample submission file in the correct format.\n",
    "* items.csv - supplemental information about the items/products.\n",
    "* item_categories.csv  - supplemental information about the items categories.\n",
    "* shops.csv- supplemental information about the shops.\n",
    "\n",
    "## Data description:\n",
    "\n",
    "* ID - an Id that represents a (Shop, Item) tuple within the test set\n",
    "* shop_id - unique identifier of a shop\n",
    "* item_id - unique identifier of a product\n",
    "* item_category_id - unique identifier of item category\n",
    "* item_cnt_day - number of products sold. You are predicting a monthly amount of this measure\n",
    "* item_price - current price of an item\n",
    "* date - date in format dd/mm/yyyy\n",
    "* date_block_num - a consecutive month number, used for convenience. January 2013 is 0, February 2013 is 1,..., October 2015 is 33\n",
    "* item_name - name of item\n",
    "* shop_name - name of shop\n",
    "* item_category_name - name of item category"
   ]
  },
  {
   "cell_type": "markdown",
   "metadata": {},
   "source": [
    "## Data preprocessing"
   ]
  },
  {
   "cell_type": "code",
   "execution_count": 2,
   "metadata": {
    "_cell_guid": "79c7e3d0-c299-4dcb-8224-4455121ee9b0",
    "_uuid": "d629ff2d2480ee46fbb7e2d37f6b5fab8052498a",
    "execution": {
     "iopub.execute_input": "2021-03-12T13:46:51.844486Z",
     "iopub.status.busy": "2021-03-12T13:46:51.843733Z",
     "iopub.status.idle": "2021-03-12T13:46:54.842547Z",
     "shell.execute_reply": "2021-03-12T13:46:54.841619Z"
    },
    "papermill": {
     "duration": 3.025418,
     "end_time": "2021-03-12T13:46:54.842680",
     "exception": false,
     "start_time": "2021-03-12T13:46:51.817262",
     "status": "completed"
    },
    "tags": []
   },
   "outputs": [],
   "source": [
    "sample_df = pd.read_csv(\"/kaggle/input/competitive-data-science-predict-future-sales/sample_submission.csv\")\n",
    "items = pd.read_csv(\"/kaggle/input/competitive-data-science-predict-future-sales/items.csv\")\n",
    "shops = pd.read_csv(\"/kaggle/input/competitive-data-science-predict-future-sales/shops.csv\")\n",
    "train_df = pd.read_csv(\"/kaggle/input/competitive-data-science-predict-future-sales/sales_train.csv\")\n",
    "test_df = pd.read_csv(\"/kaggle/input/competitive-data-science-predict-future-sales/test.csv\")\n",
    "item_categories = pd.read_csv(\"/kaggle/input/competitive-data-science-predict-future-sales/item_categories.csv\")"
   ]
  },
  {
   "cell_type": "code",
   "execution_count": 3,
   "metadata": {
    "execution": {
     "iopub.execute_input": "2021-03-12T13:46:54.890901Z",
     "iopub.status.busy": "2021-03-12T13:46:54.890161Z",
     "iopub.status.idle": "2021-03-12T13:46:54.946992Z",
     "shell.execute_reply": "2021-03-12T13:46:54.946209Z"
    },
    "papermill": {
     "duration": 0.085581,
     "end_time": "2021-03-12T13:46:54.947126",
     "exception": false,
     "start_time": "2021-03-12T13:46:54.861545",
     "status": "completed"
    },
    "tags": []
   },
   "outputs": [],
   "source": [
    "sample = pd.read_csv('/kaggle/input/competitive-data-science-predict-future-sales/sample_submission.csv')"
   ]
  },
  {
   "cell_type": "code",
   "execution_count": 4,
   "metadata": {
    "execution": {
     "iopub.execute_input": "2021-03-12T13:46:54.997403Z",
     "iopub.status.busy": "2021-03-12T13:46:54.996315Z",
     "iopub.status.idle": "2021-03-12T13:46:55.043569Z",
     "shell.execute_reply": "2021-03-12T13:46:55.044147Z"
    },
    "papermill": {
     "duration": 0.078062,
     "end_time": "2021-03-12T13:46:55.044304",
     "exception": false,
     "start_time": "2021-03-12T13:46:54.966242",
     "status": "completed"
    },
    "tags": []
   },
   "outputs": [
    {
     "data": {
      "text/html": [
       "<div>\n",
       "<style scoped>\n",
       "    .dataframe tbody tr th:only-of-type {\n",
       "        vertical-align: middle;\n",
       "    }\n",
       "\n",
       "    .dataframe tbody tr th {\n",
       "        vertical-align: top;\n",
       "    }\n",
       "\n",
       "    .dataframe thead th {\n",
       "        text-align: right;\n",
       "    }\n",
       "</style>\n",
       "<table border=\"1\" class=\"dataframe\">\n",
       "  <thead>\n",
       "    <tr style=\"text-align: right;\">\n",
       "      <th></th>\n",
       "      <th>shop_name</th>\n",
       "      <th>shop_id</th>\n",
       "    </tr>\n",
       "  </thead>\n",
       "  <tbody>\n",
       "    <tr>\n",
       "      <th>0</th>\n",
       "      <td>!Якутск Орджоникидзе, 56 фран</td>\n",
       "      <td>0</td>\n",
       "    </tr>\n",
       "    <tr>\n",
       "      <th>1</th>\n",
       "      <td>!Якутск ТЦ \"Центральный\" фран</td>\n",
       "      <td>1</td>\n",
       "    </tr>\n",
       "    <tr>\n",
       "      <th>2</th>\n",
       "      <td>Адыгея ТЦ \"Мега\"</td>\n",
       "      <td>2</td>\n",
       "    </tr>\n",
       "    <tr>\n",
       "      <th>3</th>\n",
       "      <td>Балашиха ТРК \"Октябрь-Киномир\"</td>\n",
       "      <td>3</td>\n",
       "    </tr>\n",
       "    <tr>\n",
       "      <th>4</th>\n",
       "      <td>Волжский ТЦ \"Волга Молл\"</td>\n",
       "      <td>4</td>\n",
       "    </tr>\n",
       "  </tbody>\n",
       "</table>\n",
       "</div>"
      ],
      "text/plain": [
       "                        shop_name  shop_id\n",
       "0   !Якутск Орджоникидзе, 56 фран        0\n",
       "1   !Якутск ТЦ \"Центральный\" фран        1\n",
       "2                Адыгея ТЦ \"Мега\"        2\n",
       "3  Балашиха ТРК \"Октябрь-Киномир\"        3\n",
       "4        Волжский ТЦ \"Волга Молл\"        4"
      ]
     },
     "metadata": {},
     "output_type": "display_data"
    },
    {
     "data": {
      "text/html": [
       "<div>\n",
       "<style scoped>\n",
       "    .dataframe tbody tr th:only-of-type {\n",
       "        vertical-align: middle;\n",
       "    }\n",
       "\n",
       "    .dataframe tbody tr th {\n",
       "        vertical-align: top;\n",
       "    }\n",
       "\n",
       "    .dataframe thead th {\n",
       "        text-align: right;\n",
       "    }\n",
       "</style>\n",
       "<table border=\"1\" class=\"dataframe\">\n",
       "  <thead>\n",
       "    <tr style=\"text-align: right;\">\n",
       "      <th></th>\n",
       "      <th>item_category_name</th>\n",
       "      <th>item_category_id</th>\n",
       "    </tr>\n",
       "  </thead>\n",
       "  <tbody>\n",
       "    <tr>\n",
       "      <th>0</th>\n",
       "      <td>PC - Гарнитуры/Наушники</td>\n",
       "      <td>0</td>\n",
       "    </tr>\n",
       "    <tr>\n",
       "      <th>1</th>\n",
       "      <td>Аксессуары - PS2</td>\n",
       "      <td>1</td>\n",
       "    </tr>\n",
       "    <tr>\n",
       "      <th>2</th>\n",
       "      <td>Аксессуары - PS3</td>\n",
       "      <td>2</td>\n",
       "    </tr>\n",
       "    <tr>\n",
       "      <th>3</th>\n",
       "      <td>Аксессуары - PS4</td>\n",
       "      <td>3</td>\n",
       "    </tr>\n",
       "    <tr>\n",
       "      <th>4</th>\n",
       "      <td>Аксессуары - PSP</td>\n",
       "      <td>4</td>\n",
       "    </tr>\n",
       "  </tbody>\n",
       "</table>\n",
       "</div>"
      ],
      "text/plain": [
       "        item_category_name  item_category_id\n",
       "0  PC - Гарнитуры/Наушники                 0\n",
       "1         Аксессуары - PS2                 1\n",
       "2         Аксессуары - PS3                 2\n",
       "3         Аксессуары - PS4                 3\n",
       "4         Аксессуары - PSP                 4"
      ]
     },
     "metadata": {},
     "output_type": "display_data"
    },
    {
     "data": {
      "text/html": [
       "<div>\n",
       "<style scoped>\n",
       "    .dataframe tbody tr th:only-of-type {\n",
       "        vertical-align: middle;\n",
       "    }\n",
       "\n",
       "    .dataframe tbody tr th {\n",
       "        vertical-align: top;\n",
       "    }\n",
       "\n",
       "    .dataframe thead th {\n",
       "        text-align: right;\n",
       "    }\n",
       "</style>\n",
       "<table border=\"1\" class=\"dataframe\">\n",
       "  <thead>\n",
       "    <tr style=\"text-align: right;\">\n",
       "      <th></th>\n",
       "      <th>item_name</th>\n",
       "      <th>item_id</th>\n",
       "      <th>item_category_id</th>\n",
       "    </tr>\n",
       "  </thead>\n",
       "  <tbody>\n",
       "    <tr>\n",
       "      <th>0</th>\n",
       "      <td>! ВО ВЛАСТИ НАВАЖДЕНИЯ (ПЛАСТ.)         D</td>\n",
       "      <td>0</td>\n",
       "      <td>40</td>\n",
       "    </tr>\n",
       "    <tr>\n",
       "      <th>1</th>\n",
       "      <td>!ABBYY FineReader 12 Professional Edition Full...</td>\n",
       "      <td>1</td>\n",
       "      <td>76</td>\n",
       "    </tr>\n",
       "    <tr>\n",
       "      <th>2</th>\n",
       "      <td>***В ЛУЧАХ СЛАВЫ   (UNV)                    D</td>\n",
       "      <td>2</td>\n",
       "      <td>40</td>\n",
       "    </tr>\n",
       "    <tr>\n",
       "      <th>3</th>\n",
       "      <td>***ГОЛУБАЯ ВОЛНА  (Univ)                      D</td>\n",
       "      <td>3</td>\n",
       "      <td>40</td>\n",
       "    </tr>\n",
       "    <tr>\n",
       "      <th>4</th>\n",
       "      <td>***КОРОБКА (СТЕКЛО)                       D</td>\n",
       "      <td>4</td>\n",
       "      <td>40</td>\n",
       "    </tr>\n",
       "  </tbody>\n",
       "</table>\n",
       "</div>"
      ],
      "text/plain": [
       "                                           item_name  item_id  \\\n",
       "0          ! ВО ВЛАСТИ НАВАЖДЕНИЯ (ПЛАСТ.)         D        0   \n",
       "1  !ABBYY FineReader 12 Professional Edition Full...        1   \n",
       "2      ***В ЛУЧАХ СЛАВЫ   (UNV)                    D        2   \n",
       "3    ***ГОЛУБАЯ ВОЛНА  (Univ)                      D        3   \n",
       "4        ***КОРОБКА (СТЕКЛО)                       D        4   \n",
       "\n",
       "   item_category_id  \n",
       "0                40  \n",
       "1                76  \n",
       "2                40  \n",
       "3                40  \n",
       "4                40  "
      ]
     },
     "metadata": {},
     "output_type": "display_data"
    },
    {
     "data": {
      "text/html": [
       "<div>\n",
       "<style scoped>\n",
       "    .dataframe tbody tr th:only-of-type {\n",
       "        vertical-align: middle;\n",
       "    }\n",
       "\n",
       "    .dataframe tbody tr th {\n",
       "        vertical-align: top;\n",
       "    }\n",
       "\n",
       "    .dataframe thead th {\n",
       "        text-align: right;\n",
       "    }\n",
       "</style>\n",
       "<table border=\"1\" class=\"dataframe\">\n",
       "  <thead>\n",
       "    <tr style=\"text-align: right;\">\n",
       "      <th></th>\n",
       "      <th>date</th>\n",
       "      <th>date_block_num</th>\n",
       "      <th>shop_id</th>\n",
       "      <th>item_id</th>\n",
       "      <th>item_price</th>\n",
       "      <th>item_cnt_day</th>\n",
       "    </tr>\n",
       "  </thead>\n",
       "  <tbody>\n",
       "    <tr>\n",
       "      <th>0</th>\n",
       "      <td>02.01.2013</td>\n",
       "      <td>0</td>\n",
       "      <td>59</td>\n",
       "      <td>22154</td>\n",
       "      <td>999.00</td>\n",
       "      <td>1.0</td>\n",
       "    </tr>\n",
       "    <tr>\n",
       "      <th>1</th>\n",
       "      <td>03.01.2013</td>\n",
       "      <td>0</td>\n",
       "      <td>25</td>\n",
       "      <td>2552</td>\n",
       "      <td>899.00</td>\n",
       "      <td>1.0</td>\n",
       "    </tr>\n",
       "    <tr>\n",
       "      <th>2</th>\n",
       "      <td>05.01.2013</td>\n",
       "      <td>0</td>\n",
       "      <td>25</td>\n",
       "      <td>2552</td>\n",
       "      <td>899.00</td>\n",
       "      <td>-1.0</td>\n",
       "    </tr>\n",
       "    <tr>\n",
       "      <th>3</th>\n",
       "      <td>06.01.2013</td>\n",
       "      <td>0</td>\n",
       "      <td>25</td>\n",
       "      <td>2554</td>\n",
       "      <td>1709.05</td>\n",
       "      <td>1.0</td>\n",
       "    </tr>\n",
       "    <tr>\n",
       "      <th>4</th>\n",
       "      <td>15.01.2013</td>\n",
       "      <td>0</td>\n",
       "      <td>25</td>\n",
       "      <td>2555</td>\n",
       "      <td>1099.00</td>\n",
       "      <td>1.0</td>\n",
       "    </tr>\n",
       "  </tbody>\n",
       "</table>\n",
       "</div>"
      ],
      "text/plain": [
       "         date  date_block_num  shop_id  item_id  item_price  item_cnt_day\n",
       "0  02.01.2013               0       59    22154      999.00           1.0\n",
       "1  03.01.2013               0       25     2552      899.00           1.0\n",
       "2  05.01.2013               0       25     2552      899.00          -1.0\n",
       "3  06.01.2013               0       25     2554     1709.05           1.0\n",
       "4  15.01.2013               0       25     2555     1099.00           1.0"
      ]
     },
     "metadata": {},
     "output_type": "display_data"
    },
    {
     "data": {
      "text/html": [
       "<div>\n",
       "<style scoped>\n",
       "    .dataframe tbody tr th:only-of-type {\n",
       "        vertical-align: middle;\n",
       "    }\n",
       "\n",
       "    .dataframe tbody tr th {\n",
       "        vertical-align: top;\n",
       "    }\n",
       "\n",
       "    .dataframe thead th {\n",
       "        text-align: right;\n",
       "    }\n",
       "</style>\n",
       "<table border=\"1\" class=\"dataframe\">\n",
       "  <thead>\n",
       "    <tr style=\"text-align: right;\">\n",
       "      <th></th>\n",
       "      <th>ID</th>\n",
       "      <th>shop_id</th>\n",
       "      <th>item_id</th>\n",
       "    </tr>\n",
       "  </thead>\n",
       "  <tbody>\n",
       "    <tr>\n",
       "      <th>0</th>\n",
       "      <td>0</td>\n",
       "      <td>5</td>\n",
       "      <td>5037</td>\n",
       "    </tr>\n",
       "    <tr>\n",
       "      <th>1</th>\n",
       "      <td>1</td>\n",
       "      <td>5</td>\n",
       "      <td>5320</td>\n",
       "    </tr>\n",
       "    <tr>\n",
       "      <th>2</th>\n",
       "      <td>2</td>\n",
       "      <td>5</td>\n",
       "      <td>5233</td>\n",
       "    </tr>\n",
       "    <tr>\n",
       "      <th>3</th>\n",
       "      <td>3</td>\n",
       "      <td>5</td>\n",
       "      <td>5232</td>\n",
       "    </tr>\n",
       "    <tr>\n",
       "      <th>4</th>\n",
       "      <td>4</td>\n",
       "      <td>5</td>\n",
       "      <td>5268</td>\n",
       "    </tr>\n",
       "  </tbody>\n",
       "</table>\n",
       "</div>"
      ],
      "text/plain": [
       "   ID  shop_id  item_id\n",
       "0   0        5     5037\n",
       "1   1        5     5320\n",
       "2   2        5     5233\n",
       "3   3        5     5232\n",
       "4   4        5     5268"
      ]
     },
     "metadata": {},
     "output_type": "display_data"
    }
   ],
   "source": [
    "display(shops.head())\n",
    "display(item_categories.head())\n",
    "display(items.head())\n",
    "display(train_df.head())\n",
    "display(test_df.head())"
   ]
  },
  {
   "cell_type": "code",
   "execution_count": 5,
   "metadata": {
    "execution": {
     "iopub.execute_input": "2021-03-12T13:46:55.095924Z",
     "iopub.status.busy": "2021-03-12T13:46:55.095118Z",
     "iopub.status.idle": "2021-03-12T13:47:14.667091Z",
     "shell.execute_reply": "2021-03-12T13:47:14.666377Z"
    },
    "papermill": {
     "duration": 19.600875,
     "end_time": "2021-03-12T13:47:14.667216",
     "exception": false,
     "start_time": "2021-03-12T13:46:55.066341",
     "status": "completed"
    },
    "tags": []
   },
   "outputs": [
    {
     "data": {
      "text/plain": [
       "<matplotlib.axes._subplots.AxesSubplot at 0x7f712da02090>"
      ]
     },
     "execution_count": 5,
     "metadata": {},
     "output_type": "execute_result"
    },
    {
     "data": {
      "image/png": "[encoded data removed]",
      "text/plain": [
       "<Figure size 720x360 with 2 Axes>"
      ]
     },
     "metadata": {
      "needs_background": "light"
     },
     "output_type": "display_data"
    }
   ],
   "source": [
    "plt.subplots(figsize=(10, 5))\n",
    "plt.subplot(2, 1, 1)\n",
    "sns.heatmap(train_df.isnull(), yticklabels=False, cbar=False, cmap='viridis')\n",
    "plt.subplot(2, 1, 2)\n",
    "sns.heatmap(test_df.isnull(), yticklabels=False, cbar=False, cmap='viridis')"
   ]
  },
  {
   "cell_type": "markdown",
   "metadata": {
    "papermill": {
     "duration": 0.02231,
     "end_time": "2021-03-12T13:47:14.712338",
     "exception": false,
     "start_time": "2021-03-12T13:47:14.690028",
     "status": "completed"
    },
    "tags": []
   },
   "source": [
    "There are no nan-values in the train_df and test_df\n",
    "\n",
    "Attach items to train_df by the item_id column for the item_category_id feature."
   ]
  },
  {
   "cell_type": "code",
   "execution_count": 6,
   "metadata": {
    "execution": {
     "iopub.execute_input": "2021-03-12T13:47:14.767503Z",
     "iopub.status.busy": "2021-03-12T13:47:14.766436Z",
     "iopub.status.idle": "2021-03-12T13:47:14.772927Z",
     "shell.execute_reply": "2021-03-12T13:47:14.773399Z"
    },
    "papermill": {
     "duration": 0.038384,
     "end_time": "2021-03-12T13:47:14.773561",
     "exception": false,
     "start_time": "2021-03-12T13:47:14.735177",
     "status": "completed"
    },
    "tags": []
   },
   "outputs": [
    {
     "data": {
      "text/plain": [
       "item_name           0\n",
       "item_id             0\n",
       "item_category_id    0\n",
       "dtype: int64"
      ]
     },
     "execution_count": 6,
     "metadata": {},
     "output_type": "execute_result"
    }
   ],
   "source": [
    "items.isnull().sum()"
   ]
  },
  {
   "cell_type": "code",
   "execution_count": 7,
   "metadata": {
    "execution": {
     "iopub.execute_input": "2021-03-12T13:47:14.823911Z",
     "iopub.status.busy": "2021-03-12T13:47:14.823190Z",
     "iopub.status.idle": "2021-03-12T13:47:15.357068Z",
     "shell.execute_reply": "2021-03-12T13:47:15.356448Z"
    },
    "papermill": {
     "duration": 0.560073,
     "end_time": "2021-03-12T13:47:15.357189",
     "exception": false,
     "start_time": "2021-03-12T13:47:14.797116",
     "status": "completed"
    },
    "tags": []
   },
   "outputs": [],
   "source": [
    "train_df = train_df.merge(items, on = 'item_id', how = 'left')"
   ]
  },
  {
   "cell_type": "code",
   "execution_count": 8,
   "metadata": {
    "execution": {
     "iopub.execute_input": "2021-03-12T13:47:15.419854Z",
     "iopub.status.busy": "2021-03-12T13:47:15.418847Z",
     "iopub.status.idle": "2021-03-12T13:47:15.424165Z",
     "shell.execute_reply": "2021-03-12T13:47:15.423572Z"
    },
    "papermill": {
     "duration": 0.043543,
     "end_time": "2021-03-12T13:47:15.424284",
     "exception": false,
     "start_time": "2021-03-12T13:47:15.380741",
     "status": "completed"
    },
    "tags": []
   },
   "outputs": [
    {
     "data": {
      "text/html": [
       "<div>\n",
       "<style scoped>\n",
       "    .dataframe tbody tr th:only-of-type {\n",
       "        vertical-align: middle;\n",
       "    }\n",
       "\n",
       "    .dataframe tbody tr th {\n",
       "        vertical-align: top;\n",
       "    }\n",
       "\n",
       "    .dataframe thead th {\n",
       "        text-align: right;\n",
       "    }\n",
       "</style>\n",
       "<table border=\"1\" class=\"dataframe\">\n",
       "  <thead>\n",
       "    <tr style=\"text-align: right;\">\n",
       "      <th></th>\n",
       "      <th>date</th>\n",
       "      <th>date_block_num</th>\n",
       "      <th>shop_id</th>\n",
       "      <th>item_id</th>\n",
       "      <th>item_price</th>\n",
       "      <th>item_cnt_day</th>\n",
       "      <th>item_name</th>\n",
       "      <th>item_category_id</th>\n",
       "    </tr>\n",
       "  </thead>\n",
       "  <tbody>\n",
       "    <tr>\n",
       "      <th>0</th>\n",
       "      <td>02.01.2013</td>\n",
       "      <td>0</td>\n",
       "      <td>59</td>\n",
       "      <td>22154</td>\n",
       "      <td>999.00</td>\n",
       "      <td>1.0</td>\n",
       "      <td>ЯВЛЕНИЕ 2012 (BD)</td>\n",
       "      <td>37</td>\n",
       "    </tr>\n",
       "    <tr>\n",
       "      <th>1</th>\n",
       "      <td>03.01.2013</td>\n",
       "      <td>0</td>\n",
       "      <td>25</td>\n",
       "      <td>2552</td>\n",
       "      <td>899.00</td>\n",
       "      <td>1.0</td>\n",
       "      <td>DEEP PURPLE  The House Of Blue Light  LP</td>\n",
       "      <td>58</td>\n",
       "    </tr>\n",
       "    <tr>\n",
       "      <th>2</th>\n",
       "      <td>05.01.2013</td>\n",
       "      <td>0</td>\n",
       "      <td>25</td>\n",
       "      <td>2552</td>\n",
       "      <td>899.00</td>\n",
       "      <td>-1.0</td>\n",
       "      <td>DEEP PURPLE  The House Of Blue Light  LP</td>\n",
       "      <td>58</td>\n",
       "    </tr>\n",
       "    <tr>\n",
       "      <th>3</th>\n",
       "      <td>06.01.2013</td>\n",
       "      <td>0</td>\n",
       "      <td>25</td>\n",
       "      <td>2554</td>\n",
       "      <td>1709.05</td>\n",
       "      <td>1.0</td>\n",
       "      <td>DEEP PURPLE  Who Do You Think We Are  LP</td>\n",
       "      <td>58</td>\n",
       "    </tr>\n",
       "    <tr>\n",
       "      <th>4</th>\n",
       "      <td>15.01.2013</td>\n",
       "      <td>0</td>\n",
       "      <td>25</td>\n",
       "      <td>2555</td>\n",
       "      <td>1099.00</td>\n",
       "      <td>1.0</td>\n",
       "      <td>DEEP PURPLE 30 Very Best Of 2CD (Фирм.)</td>\n",
       "      <td>56</td>\n",
       "    </tr>\n",
       "  </tbody>\n",
       "</table>\n",
       "</div>"
      ],
      "text/plain": [
       "         date  date_block_num  shop_id  item_id  item_price  item_cnt_day  \\\n",
       "0  02.01.2013               0       59    22154      999.00           1.0   \n",
       "1  03.01.2013               0       25     2552      899.00           1.0   \n",
       "2  05.01.2013               0       25     2552      899.00          -1.0   \n",
       "3  06.01.2013               0       25     2554     1709.05           1.0   \n",
       "4  15.01.2013               0       25     2555     1099.00           1.0   \n",
       "\n",
       "                                  item_name  item_category_id  \n",
       "0                         ЯВЛЕНИЕ 2012 (BD)                37  \n",
       "1  DEEP PURPLE  The House Of Blue Light  LP                58  \n",
       "2  DEEP PURPLE  The House Of Blue Light  LP                58  \n",
       "3  DEEP PURPLE  Who Do You Think We Are  LP                58  \n",
       "4   DEEP PURPLE 30 Very Best Of 2CD (Фирм.)                56  "
      ]
     },
     "execution_count": 8,
     "metadata": {},
     "output_type": "execute_result"
    }
   ],
   "source": [
    "train_df.head()"
   ]
  },
  {
   "cell_type": "markdown",
   "metadata": {
    "papermill": {
     "duration": 0.023826,
     "end_time": "2021-03-12T13:47:15.472107",
     "exception": false,
     "start_time": "2021-03-12T13:47:15.448281",
     "status": "completed"
    },
    "tags": []
   },
   "source": [
    "## Feature engeineering (add datetime features)"
   ]
  },
  {
   "cell_type": "code",
   "execution_count": 9,
   "metadata": {
    "execution": {
     "iopub.execute_input": "2021-03-12T13:47:15.526954Z",
     "iopub.status.busy": "2021-03-12T13:47:15.526216Z",
     "iopub.status.idle": "2021-03-12T13:48:34.129535Z",
     "shell.execute_reply": "2021-03-12T13:48:34.128505Z"
    },
    "papermill": {
     "duration": 78.633642,
     "end_time": "2021-03-12T13:48:34.129726",
     "exception": false,
     "start_time": "2021-03-12T13:47:15.496084",
     "status": "completed"
    },
    "tags": []
   },
   "outputs": [],
   "source": [
    "train_df.date = train_df.date.apply(lambda date_str: datetime.strptime(date_str, '%d.%m.%Y'))\n",
    "\n",
    "train_df['month'] = train_df.date.apply(lambda date: date.month) \n",
    "train_df['year'] = train_df.date.apply(lambda date: date.year)"
   ]
  },
  {
   "cell_type": "markdown",
   "metadata": {
    "papermill": {
     "duration": 0.023906,
     "end_time": "2021-03-12T13:48:34.178487",
     "exception": false,
     "start_time": "2021-03-12T13:48:34.154581",
     "status": "completed"
    },
    "tags": []
   },
   "source": [
    "## Features removing"
   ]
  },
  {
   "cell_type": "code",
   "execution_count": 10,
   "metadata": {
    "execution": {
     "iopub.execute_input": "2021-03-12T13:48:34.235627Z",
     "iopub.status.busy": "2021-03-12T13:48:34.234198Z",
     "iopub.status.idle": "2021-03-12T13:48:34.374715Z",
     "shell.execute_reply": "2021-03-12T13:48:34.373925Z"
    },
    "papermill": {
     "duration": 0.171902,
     "end_time": "2021-03-12T13:48:34.374840",
     "exception": false,
     "start_time": "2021-03-12T13:48:34.202938",
     "status": "completed"
    },
    "tags": []
   },
   "outputs": [],
   "source": [
    "train_df.drop(['item_name', 'date', 'item_price', 'item_category_id'], axis = 'columns', inplace = True)"
   ]
  },
  {
   "cell_type": "markdown",
   "metadata": {
    "papermill": {
     "duration": 0.023869,
     "end_time": "2021-03-12T13:48:34.422925",
     "exception": false,
     "start_time": "2021-03-12T13:48:34.399056",
     "status": "completed"
    },
    "tags": []
   },
   "source": [
    "## Grouping and aggregating"
   ]
  },
  {
   "cell_type": "code",
   "execution_count": 11,
   "metadata": {
    "execution": {
     "iopub.execute_input": "2021-03-12T13:48:34.489569Z",
     "iopub.status.busy": "2021-03-12T13:48:34.488845Z",
     "iopub.status.idle": "2021-03-12T13:48:35.311199Z",
     "shell.execute_reply": "2021-03-12T13:48:35.311742Z"
    },
    "papermill": {
     "duration": 0.86469,
     "end_time": "2021-03-12T13:48:35.311913",
     "exception": false,
     "start_time": "2021-03-12T13:48:34.447223",
     "status": "completed"
    },
    "tags": []
   },
   "outputs": [],
   "source": [
    "train_df = train_df.groupby(by = [\"date_block_num\", \"shop_id\", \"item_id\", \"month\", \"year\"]).sum().reset_index()"
   ]
  },
  {
   "cell_type": "code",
   "execution_count": 12,
   "metadata": {
    "execution": {
     "iopub.execute_input": "2021-03-12T13:48:35.364559Z",
     "iopub.status.busy": "2021-03-12T13:48:35.363884Z",
     "iopub.status.idle": "2021-03-12T13:48:35.485028Z",
     "shell.execute_reply": "2021-03-12T13:48:35.484348Z"
    },
    "papermill": {
     "duration": 0.149044,
     "end_time": "2021-03-12T13:48:35.485227",
     "exception": false,
     "start_time": "2021-03-12T13:48:35.336183",
     "status": "completed"
    },
    "tags": []
   },
   "outputs": [
    {
     "data": {
      "text/html": [
       "<div>\n",
       "<style scoped>\n",
       "    .dataframe tbody tr th:only-of-type {\n",
       "        vertical-align: middle;\n",
       "    }\n",
       "\n",
       "    .dataframe tbody tr th {\n",
       "        vertical-align: top;\n",
       "    }\n",
       "\n",
       "    .dataframe thead th {\n",
       "        text-align: right;\n",
       "    }\n",
       "</style>\n",
       "<table border=\"1\" class=\"dataframe\">\n",
       "  <thead>\n",
       "    <tr style=\"text-align: right;\">\n",
       "      <th></th>\n",
       "      <th>date_block_num</th>\n",
       "      <th>shop_id</th>\n",
       "      <th>item_id</th>\n",
       "      <th>month</th>\n",
       "      <th>year</th>\n",
       "      <th>item_cnt_day</th>\n",
       "    </tr>\n",
       "  </thead>\n",
       "  <tbody>\n",
       "    <tr>\n",
       "      <th>1464150</th>\n",
       "      <td>29</td>\n",
       "      <td>28</td>\n",
       "      <td>20951</td>\n",
       "      <td>6</td>\n",
       "      <td>2015</td>\n",
       "      <td>1.0</td>\n",
       "    </tr>\n",
       "    <tr>\n",
       "      <th>1147830</th>\n",
       "      <td>21</td>\n",
       "      <td>57</td>\n",
       "      <td>12333</td>\n",
       "      <td>10</td>\n",
       "      <td>2014</td>\n",
       "      <td>1.0</td>\n",
       "    </tr>\n",
       "    <tr>\n",
       "      <th>1119912</th>\n",
       "      <td>21</td>\n",
       "      <td>24</td>\n",
       "      <td>18592</td>\n",
       "      <td>10</td>\n",
       "      <td>2014</td>\n",
       "      <td>1.0</td>\n",
       "    </tr>\n",
       "    <tr>\n",
       "      <th>196442</th>\n",
       "      <td>3</td>\n",
       "      <td>18</td>\n",
       "      <td>1196</td>\n",
       "      <td>4</td>\n",
       "      <td>2013</td>\n",
       "      <td>1.0</td>\n",
       "    </tr>\n",
       "    <tr>\n",
       "      <th>27770</th>\n",
       "      <td>0</td>\n",
       "      <td>27</td>\n",
       "      <td>2493</td>\n",
       "      <td>1</td>\n",
       "      <td>2013</td>\n",
       "      <td>2.0</td>\n",
       "    </tr>\n",
       "  </tbody>\n",
       "</table>\n",
       "</div>"
      ],
      "text/plain": [
       "         date_block_num  shop_id  item_id  month  year  item_cnt_day\n",
       "1464150              29       28    20951      6  2015           1.0\n",
       "1147830              21       57    12333     10  2014           1.0\n",
       "1119912              21       24    18592     10  2014           1.0\n",
       "196442                3       18     1196      4  2013           1.0\n",
       "27770                 0       27     2493      1  2013           2.0"
      ]
     },
     "execution_count": 12,
     "metadata": {},
     "output_type": "execute_result"
    }
   ],
   "source": [
    "train_df.sample(5)"
   ]
  },
  {
   "cell_type": "markdown",
   "metadata": {
    "papermill": {
     "duration": 0.024688,
     "end_time": "2021-03-12T13:48:35.535070",
     "exception": false,
     "start_time": "2021-03-12T13:48:35.510382",
     "status": "completed"
    },
    "tags": []
   },
   "source": [
    "## Preprocessing of the test_df"
   ]
  },
  {
   "cell_type": "code",
   "execution_count": 13,
   "metadata": {
    "execution": {
     "iopub.execute_input": "2021-03-12T13:48:35.588574Z",
     "iopub.status.busy": "2021-03-12T13:48:35.587895Z",
     "iopub.status.idle": "2021-03-12T13:48:35.598501Z",
     "shell.execute_reply": "2021-03-12T13:48:35.599139Z"
    },
    "papermill": {
     "duration": 0.039079,
     "end_time": "2021-03-12T13:48:35.599292",
     "exception": false,
     "start_time": "2021-03-12T13:48:35.560213",
     "status": "completed"
    },
    "tags": []
   },
   "outputs": [
    {
     "data": {
      "text/html": [
       "<div>\n",
       "<style scoped>\n",
       "    .dataframe tbody tr th:only-of-type {\n",
       "        vertical-align: middle;\n",
       "    }\n",
       "\n",
       "    .dataframe tbody tr th {\n",
       "        vertical-align: top;\n",
       "    }\n",
       "\n",
       "    .dataframe thead th {\n",
       "        text-align: right;\n",
       "    }\n",
       "</style>\n",
       "<table border=\"1\" class=\"dataframe\">\n",
       "  <thead>\n",
       "    <tr style=\"text-align: right;\">\n",
       "      <th></th>\n",
       "      <th>ID</th>\n",
       "      <th>shop_id</th>\n",
       "      <th>item_id</th>\n",
       "    </tr>\n",
       "  </thead>\n",
       "  <tbody>\n",
       "    <tr>\n",
       "      <th>0</th>\n",
       "      <td>0</td>\n",
       "      <td>5</td>\n",
       "      <td>5037</td>\n",
       "    </tr>\n",
       "    <tr>\n",
       "      <th>1</th>\n",
       "      <td>1</td>\n",
       "      <td>5</td>\n",
       "      <td>5320</td>\n",
       "    </tr>\n",
       "    <tr>\n",
       "      <th>2</th>\n",
       "      <td>2</td>\n",
       "      <td>5</td>\n",
       "      <td>5233</td>\n",
       "    </tr>\n",
       "    <tr>\n",
       "      <th>3</th>\n",
       "      <td>3</td>\n",
       "      <td>5</td>\n",
       "      <td>5232</td>\n",
       "    </tr>\n",
       "    <tr>\n",
       "      <th>4</th>\n",
       "      <td>4</td>\n",
       "      <td>5</td>\n",
       "      <td>5268</td>\n",
       "    </tr>\n",
       "  </tbody>\n",
       "</table>\n",
       "</div>"
      ],
      "text/plain": [
       "   ID  shop_id  item_id\n",
       "0   0        5     5037\n",
       "1   1        5     5320\n",
       "2   2        5     5233\n",
       "3   3        5     5232\n",
       "4   4        5     5268"
      ]
     },
     "metadata": {},
     "output_type": "display_data"
    },
    {
     "name": "stdout",
     "output_type": "stream",
     "text": [
      "(214200, 3)\n"
     ]
    }
   ],
   "source": [
    "display(test_df.head())\n",
    "print(test_df.shape)"
   ]
  },
  {
   "cell_type": "code",
   "execution_count": 14,
   "metadata": {
    "execution": {
     "iopub.execute_input": "2021-03-12T13:48:35.658313Z",
     "iopub.status.busy": "2021-03-12T13:48:35.657634Z",
     "iopub.status.idle": "2021-03-12T13:48:35.663152Z",
     "shell.execute_reply": "2021-03-12T13:48:35.663824Z"
    },
    "papermill": {
     "duration": 0.038546,
     "end_time": "2021-03-12T13:48:35.664010",
     "exception": false,
     "start_time": "2021-03-12T13:48:35.625464",
     "status": "completed"
    },
    "tags": []
   },
   "outputs": [],
   "source": [
    "test_df['month'] = 11 # by the task condition\n",
    "test_df['year'] = 2015 # by the task condition\n",
    "test_df['date_block_num'] = 34 # by the task condition\n",
    "\n",
    "difference = list(set(train_df.columns) - set(test_df.columns))\n",
    "difference.remove('item_cnt_day')"
   ]
  },
  {
   "cell_type": "markdown",
   "metadata": {
    "papermill": {
     "duration": 0.025728,
     "end_time": "2021-03-12T13:48:35.715965",
     "exception": false,
     "start_time": "2021-03-12T13:48:35.690237",
     "status": "completed"
    },
    "tags": []
   },
   "source": [
    "## Machine Learning"
   ]
  },
  {
   "cell_type": "code",
   "execution_count": 15,
   "metadata": {
    "execution": {
     "iopub.execute_input": "2021-03-12T13:48:35.800185Z",
     "iopub.status.busy": "2021-03-12T13:48:35.799469Z",
     "iopub.status.idle": "2021-03-12T13:48:35.836406Z",
     "shell.execute_reply": "2021-03-12T13:48:35.835664Z"
    },
    "papermill": {
     "duration": 0.094396,
     "end_time": "2021-03-12T13:48:35.836523",
     "exception": false,
     "start_time": "2021-03-12T13:48:35.742127",
     "status": "completed"
    },
    "tags": []
   },
   "outputs": [],
   "source": [
    "Y = train_df['item_cnt_day']\n",
    "train_df.drop('item_cnt_day', axis = 1, inplace = True)\n",
    "X = train_df\n",
    "X.drop(difference, axis = 1, inplace = True)\n",
    "\n",
    "ID = test_df['ID']\n",
    "test_df.drop(['ID'], axis = 1, inplace = True)"
   ]
  },
  {
   "cell_type": "code",
   "execution_count": 16,
   "metadata": {
    "execution": {
     "iopub.execute_input": "2021-03-12T13:48:35.895908Z",
     "iopub.status.busy": "2021-03-12T13:48:35.895191Z",
     "iopub.status.idle": "2021-03-12T13:48:36.200048Z",
     "shell.execute_reply": "2021-03-12T13:48:36.200641Z"
    },
    "papermill": {
     "duration": 0.337856,
     "end_time": "2021-03-12T13:48:36.200830",
     "exception": false,
     "start_time": "2021-03-12T13:48:35.862974",
     "status": "completed"
    },
    "tags": []
   },
   "outputs": [],
   "source": [
    "def poly(df):\n",
    "    poly = PolynomialFeatures(2, interaction_only=True)\n",
    "    x = poly.fit(df)\n",
    "    df = pd.DataFrame(x.transform(df), columns=x.get_feature_names(df.columns))\n",
    "    return df\n",
    "\n",
    "X = poly(X)\n",
    "test_df = poly(test_df)"
   ]
  },
  {
   "cell_type": "code",
   "execution_count": 17,
   "metadata": {
    "execution": {
     "iopub.execute_input": "2021-03-12T13:48:36.258909Z",
     "iopub.status.busy": "2021-03-12T13:48:36.257871Z",
     "iopub.status.idle": "2021-03-12T13:48:36.280025Z",
     "shell.execute_reply": "2021-03-12T13:48:36.280486Z"
    },
    "papermill": {
     "duration": 0.052677,
     "end_time": "2021-03-12T13:48:36.280632",
     "exception": false,
     "start_time": "2021-03-12T13:48:36.227955",
     "status": "completed"
    },
    "tags": []
   },
   "outputs": [
    {
     "data": {
      "text/html": [
       "<div>\n",
       "<style scoped>\n",
       "    .dataframe tbody tr th:only-of-type {\n",
       "        vertical-align: middle;\n",
       "    }\n",
       "\n",
       "    .dataframe tbody tr th {\n",
       "        vertical-align: top;\n",
       "    }\n",
       "\n",
       "    .dataframe thead th {\n",
       "        text-align: right;\n",
       "    }\n",
       "</style>\n",
       "<table border=\"1\" class=\"dataframe\">\n",
       "  <thead>\n",
       "    <tr style=\"text-align: right;\">\n",
       "      <th></th>\n",
       "      <th>1</th>\n",
       "      <th>shop_id</th>\n",
       "      <th>item_id</th>\n",
       "      <th>month</th>\n",
       "      <th>year</th>\n",
       "      <th>date_block_num</th>\n",
       "      <th>shop_id item_id</th>\n",
       "      <th>shop_id month</th>\n",
       "      <th>shop_id year</th>\n",
       "      <th>shop_id date_block_num</th>\n",
       "      <th>item_id month</th>\n",
       "      <th>item_id year</th>\n",
       "      <th>item_id date_block_num</th>\n",
       "      <th>month year</th>\n",
       "      <th>month date_block_num</th>\n",
       "      <th>year date_block_num</th>\n",
       "    </tr>\n",
       "  </thead>\n",
       "  <tbody>\n",
       "    <tr>\n",
       "      <th>0</th>\n",
       "      <td>1.0</td>\n",
       "      <td>5.0</td>\n",
       "      <td>5037.0</td>\n",
       "      <td>11.0</td>\n",
       "      <td>2015.0</td>\n",
       "      <td>34.0</td>\n",
       "      <td>25185.0</td>\n",
       "      <td>55.0</td>\n",
       "      <td>10075.0</td>\n",
       "      <td>170.0</td>\n",
       "      <td>55407.0</td>\n",
       "      <td>10149555.0</td>\n",
       "      <td>171258.0</td>\n",
       "      <td>22165.0</td>\n",
       "      <td>374.0</td>\n",
       "      <td>68510.0</td>\n",
       "    </tr>\n",
       "    <tr>\n",
       "      <th>1</th>\n",
       "      <td>1.0</td>\n",
       "      <td>5.0</td>\n",
       "      <td>5320.0</td>\n",
       "      <td>11.0</td>\n",
       "      <td>2015.0</td>\n",
       "      <td>34.0</td>\n",
       "      <td>26600.0</td>\n",
       "      <td>55.0</td>\n",
       "      <td>10075.0</td>\n",
       "      <td>170.0</td>\n",
       "      <td>58520.0</td>\n",
       "      <td>10719800.0</td>\n",
       "      <td>180880.0</td>\n",
       "      <td>22165.0</td>\n",
       "      <td>374.0</td>\n",
       "      <td>68510.0</td>\n",
       "    </tr>\n",
       "    <tr>\n",
       "      <th>2</th>\n",
       "      <td>1.0</td>\n",
       "      <td>5.0</td>\n",
       "      <td>5233.0</td>\n",
       "      <td>11.0</td>\n",
       "      <td>2015.0</td>\n",
       "      <td>34.0</td>\n",
       "      <td>26165.0</td>\n",
       "      <td>55.0</td>\n",
       "      <td>10075.0</td>\n",
       "      <td>170.0</td>\n",
       "      <td>57563.0</td>\n",
       "      <td>10544495.0</td>\n",
       "      <td>177922.0</td>\n",
       "      <td>22165.0</td>\n",
       "      <td>374.0</td>\n",
       "      <td>68510.0</td>\n",
       "    </tr>\n",
       "    <tr>\n",
       "      <th>3</th>\n",
       "      <td>1.0</td>\n",
       "      <td>5.0</td>\n",
       "      <td>5232.0</td>\n",
       "      <td>11.0</td>\n",
       "      <td>2015.0</td>\n",
       "      <td>34.0</td>\n",
       "      <td>26160.0</td>\n",
       "      <td>55.0</td>\n",
       "      <td>10075.0</td>\n",
       "      <td>170.0</td>\n",
       "      <td>57552.0</td>\n",
       "      <td>10542480.0</td>\n",
       "      <td>177888.0</td>\n",
       "      <td>22165.0</td>\n",
       "      <td>374.0</td>\n",
       "      <td>68510.0</td>\n",
       "    </tr>\n",
       "    <tr>\n",
       "      <th>4</th>\n",
       "      <td>1.0</td>\n",
       "      <td>5.0</td>\n",
       "      <td>5268.0</td>\n",
       "      <td>11.0</td>\n",
       "      <td>2015.0</td>\n",
       "      <td>34.0</td>\n",
       "      <td>26340.0</td>\n",
       "      <td>55.0</td>\n",
       "      <td>10075.0</td>\n",
       "      <td>170.0</td>\n",
       "      <td>57948.0</td>\n",
       "      <td>10615020.0</td>\n",
       "      <td>179112.0</td>\n",
       "      <td>22165.0</td>\n",
       "      <td>374.0</td>\n",
       "      <td>68510.0</td>\n",
       "    </tr>\n",
       "  </tbody>\n",
       "</table>\n",
       "</div>"
      ],
      "text/plain": [
       "     1  shop_id  item_id  month    year  date_block_num  shop_id item_id  \\\n",
       "0  1.0      5.0   5037.0   11.0  2015.0            34.0          25185.0   \n",
       "1  1.0      5.0   5320.0   11.0  2015.0            34.0          26600.0   \n",
       "2  1.0      5.0   5233.0   11.0  2015.0            34.0          26165.0   \n",
       "3  1.0      5.0   5232.0   11.0  2015.0            34.0          26160.0   \n",
       "4  1.0      5.0   5268.0   11.0  2015.0            34.0          26340.0   \n",
       "\n",
       "   shop_id month  shop_id year  shop_id date_block_num  item_id month  \\\n",
       "0           55.0       10075.0                   170.0        55407.0   \n",
       "1           55.0       10075.0                   170.0        58520.0   \n",
       "2           55.0       10075.0                   170.0        57563.0   \n",
       "3           55.0       10075.0                   170.0        57552.0   \n",
       "4           55.0       10075.0                   170.0        57948.0   \n",
       "\n",
       "   item_id year  item_id date_block_num  month year  month date_block_num  \\\n",
       "0    10149555.0                171258.0     22165.0                 374.0   \n",
       "1    10719800.0                180880.0     22165.0                 374.0   \n",
       "2    10544495.0                177922.0     22165.0                 374.0   \n",
       "3    10542480.0                177888.0     22165.0                 374.0   \n",
       "4    10615020.0                179112.0     22165.0                 374.0   \n",
       "\n",
       "   year date_block_num  \n",
       "0              68510.0  \n",
       "1              68510.0  \n",
       "2              68510.0  \n",
       "3              68510.0  \n",
       "4              68510.0  "
      ]
     },
     "execution_count": 17,
     "metadata": {},
     "output_type": "execute_result"
    }
   ],
   "source": [
    "test_df.head()"
   ]
  },
  {
   "cell_type": "code",
   "execution_count": 18,
   "metadata": {
    "execution": {
     "iopub.execute_input": "2021-03-12T13:48:36.338839Z",
     "iopub.status.busy": "2021-03-12T13:48:36.337838Z",
     "iopub.status.idle": "2021-03-12T13:48:36.343668Z",
     "shell.execute_reply": "2021-03-12T13:48:36.343002Z"
    },
    "papermill": {
     "duration": 0.035974,
     "end_time": "2021-03-12T13:48:36.343798",
     "exception": false,
     "start_time": "2021-03-12T13:48:36.307824",
     "status": "completed"
    },
    "tags": []
   },
   "outputs": [],
   "source": [
    "X = np.expand_dims(X, 1) # for mlp we need to add new axis\n",
    "test_df = np.expand_dims(test_df, 1)"
   ]
  },
  {
   "cell_type": "code",
   "execution_count": 19,
   "metadata": {
    "execution": {
     "iopub.execute_input": "2021-03-12T13:48:36.406359Z",
     "iopub.status.busy": "2021-03-12T13:48:36.405623Z",
     "iopub.status.idle": "2021-03-12T13:48:36.858599Z",
     "shell.execute_reply": "2021-03-12T13:48:36.858003Z"
    },
    "papermill": {
     "duration": 0.487343,
     "end_time": "2021-03-12T13:48:36.858743",
     "exception": false,
     "start_time": "2021-03-12T13:48:36.371400",
     "status": "completed"
    },
    "tags": []
   },
   "outputs": [
    {
     "name": "stdout",
     "output_type": "stream",
     "text": [
      "Model: \"sequential\"\n",
      "_________________________________________________________________\n",
      "Layer (type)                 Output Shape              Param #   \n",
      "=================================================================\n",
      "lstm (LSTM)                  (None, 64)                20736     \n",
      "_________________________________________________________________\n",
      "dense (Dense)                (None, 1)                 65        \n",
      "_________________________________________________________________\n",
      "dropout (Dropout)            (None, 1)                 0         \n",
      "=================================================================\n",
      "Total params: 20,801\n",
      "Trainable params: 20,801\n",
      "Non-trainable params: 0\n",
      "_________________________________________________________________\n"
     ]
    }
   ],
   "source": [
    "# creating a neural network architecture\n",
    "my_model = Sequential()\n",
    "my_model.add(LSTM(64, input_shape=(X.shape[1:])))\n",
    "my_model.add(Dense(1))\n",
    "my_model.add(Dropout(0.4))\n",
    "\n",
    "my_model.compile(loss = 'mse',optimizer = 'adam', metrics = ['mean_squared_error'])\n",
    "my_model.summary()"
   ]
  },
  {
   "cell_type": "code",
   "execution_count": 20,
   "metadata": {
    "execution": {
     "iopub.execute_input": "2021-03-12T13:48:36.941993Z",
     "iopub.status.busy": "2021-03-12T13:48:36.940801Z",
     "iopub.status.idle": "2021-03-12T13:49:29.416432Z",
     "shell.execute_reply": "2021-03-12T13:49:29.415896Z"
    },
    "papermill": {
     "duration": 52.523184,
     "end_time": "2021-03-12T13:49:29.416570",
     "exception": false,
     "start_time": "2021-03-12T13:48:36.893386",
     "status": "completed"
    },
    "tags": []
   },
   "outputs": [
    {
     "name": "stdout",
     "output_type": "stream",
     "text": [
      "Epoch 1/8\n",
      "393/393 [==============================] - 6s 16ms/step - loss: 77.2505 - mean_squared_error: 77.2505\n",
      "Epoch 2/8\n",
      "393/393 [==============================] - 6s 16ms/step - loss: 76.8890 - mean_squared_error: 76.8890\n",
      "Epoch 3/8\n",
      "393/393 [==============================] - 6s 16ms/step - loss: 76.8912 - mean_squared_error: 76.8912\n",
      "Epoch 4/8\n",
      "393/393 [==============================] - 6s 16ms/step - loss: 76.8827 - mean_squared_error: 76.8827\n",
      "Epoch 5/8\n",
      "393/393 [==============================] - 6s 16ms/step - loss: 76.8651 - mean_squared_error: 76.8651\n",
      "Epoch 6/8\n",
      "393/393 [==============================] - 6s 16ms/step - loss: 76.8709 - mean_squared_error: 76.8709\n",
      "Epoch 7/8\n",
      "393/393 [==============================] - 6s 16ms/step - loss: 76.8926 - mean_squared_error: 76.8926\n",
      "Epoch 8/8\n",
      "393/393 [==============================] - 6s 16ms/step - loss: 76.8766 - mean_squared_error: 76.8766\n"
     ]
    },
    {
     "data": {
      "text/plain": [
       "<tensorflow.python.keras.callbacks.History at 0x7f7124fcd210>"
      ]
     },
     "execution_count": 20,
     "metadata": {},
     "output_type": "execute_result"
    }
   ],
   "source": [
    "my_model.fit(X,Y,batch_size = 4096,epochs = 8)"
   ]
  },
  {
   "cell_type": "markdown",
   "metadata": {},
   "source": [
    "## Output"
   ]
  },
  {
   "cell_type": "code",
   "execution_count": 21,
   "metadata": {
    "execution": {
     "iopub.execute_input": "2021-03-12T13:49:30.019597Z",
     "iopub.status.busy": "2021-03-12T13:49:30.018887Z",
     "iopub.status.idle": "2021-03-12T13:49:35.840318Z",
     "shell.execute_reply": "2021-03-12T13:49:35.841322Z"
    },
    "papermill": {
     "duration": 6.126703,
     "end_time": "2021-03-12T13:49:35.841474",
     "exception": false,
     "start_time": "2021-03-12T13:49:29.714771",
     "status": "completed"
    },
    "tags": []
   },
   "outputs": [],
   "source": [
    "# creating submission file \n",
    "predictions = my_model.predict(test_df)\n",
    "# we will keep every value between 0 and 20\n",
    "predictions = predictions.clip(0,20)"
   ]
  },
  {
   "cell_type": "code",
   "execution_count": 22,
   "metadata": {
    "execution": {
     "iopub.execute_input": "2021-03-12T13:49:36.447006Z",
     "iopub.status.busy": "2021-03-12T13:49:36.445841Z",
     "iopub.status.idle": "2021-03-12T13:49:37.299394Z",
     "shell.execute_reply": "2021-03-12T13:49:37.298678Z"
    },
    "papermill": {
     "duration": 1.157037,
     "end_time": "2021-03-12T13:49:37.299512",
     "exception": false,
     "start_time": "2021-03-12T13:49:36.142475",
     "status": "completed"
    },
    "tags": []
   },
   "outputs": [],
   "source": [
    "output = pd.DataFrame({'ID': ID, 'item_cnt_month': np.round(predictions.ravel(), 1)})\n",
    "output.to_csv('my_submission.csv', index=False)"
   ]
  }
 ],
 "metadata": {
  "kernelspec": {
   "display_name": "Python 3",
   "language": "python",
   "name": "python3"
  },
  "language_info": {
   "codemirror_mode": {
    "name": "ipython",
    "version": 3
   },
   "file_extension": ".py",
   "mimetype": "text/x-python",
   "name": "python",
   "nbconvert_exporter": "python",
   "pygments_lexer": "ipython3",
   "version": "3.8.0"
  },
  "papermill": {
   "duration": 178.559554,
   "end_time": "2021-03-12T13:49:37.706835",
   "environment_variables": {},
   "exception": null,
   "input_path": "__notebook__.ipynb",
   "output_path": "__notebook__.ipynb",
   "parameters": {},
   "start_time": "2021-03-12T13:46:39.147281",
   "version": "2.1.0"
  }
 },
 "nbformat": 4,
 "nbformat_minor": 4
}
